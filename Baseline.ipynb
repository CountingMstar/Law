{
 "cells": [
  {
   "cell_type": "code",
   "execution_count": 1,
   "metadata": {},
   "outputs": [],
   "source": [
    "import pandas as pd\n",
    "import numpy as np\n",
    "from sklearn.feature_extraction.text import TfidfVectorizer\n",
    "from sklearn.linear_model import LogisticRegression"
   ]
  },
  {
   "cell_type": "code",
   "execution_count": 17,
   "metadata": {},
   "outputs": [],
   "source": [
    "train = pd.read_csv('open/train.csv')\n",
    "test = pd.read_csv('open/test.csv')"
   ]
  },
  {
   "cell_type": "code",
   "execution_count": 18,
   "metadata": {},
   "outputs": [
    {
     "name": "stdout",
     "output_type": "stream",
     "text": [
      "           ID         first_party                    second_party  \\\n",
      "0  TRAIN_0000   Phil A. St. Amant              Herman A. Thompson   \n",
      "1  TRAIN_0001      Stephen Duncan                  Lawrence Owens   \n",
      "2  TRAIN_0002   Billy Joe Magwood  Tony Patterson, Warden, et al.   \n",
      "3  TRAIN_0003          Linkletter                          Walker   \n",
      "4  TRAIN_0004  William Earl Fikes                         Alabama   \n",
      "\n",
      "                                               facts  first_party_winner  \n",
      "0  On June 27, 1962, Phil St. Amant, a candidate ...                   1  \n",
      "1  Ramon Nelson was riding his bike when he suffe...                   0  \n",
      "2  An Alabama state court convicted Billy Joe Mag...                   1  \n",
      "3  Victor Linkletter was convicted in state court...                   0  \n",
      "4  On April 24, 1953 in Selma, Alabama, an intrud...                   1  \n",
      "=============================\n",
      "          ID                                        first_party  \\\n",
      "0  TEST_0000                                            Salerno   \n",
      "1  TEST_0001             Milberg Weiss Bershad Hynes and Lerach   \n",
      "2  TEST_0002  No. 07-582\\t Title: \\t Federal Communications ...   \n",
      "3  TEST_0003                                    Harold Kaufman    \n",
      "4  TEST_0004                                             Berger   \n",
      "\n",
      "                            second_party  \\\n",
      "0                          United States   \n",
      "1                          Lexecon, Inc.   \n",
      "2  Fox Television Stations, Inc., et al.   \n",
      "3                          United States   \n",
      "4                                 Hanlon   \n",
      "\n",
      "                                               facts  \n",
      "0  The 1984 Bail Reform Act allowed the federal c...  \n",
      "1  Lexecon Inc. was a defendant in a class action...  \n",
      "2  In 2002 and 2003, Fox Television Stations broa...  \n",
      "3  During his trial for armed robbery of a federa...  \n",
      "4  In 1993, a magistrate judge issued a warrant a...  \n"
     ]
    }
   ],
   "source": [
    "print(train[:5])\n",
    "print('=============================')\n",
    "print(test[:5])"
   ]
  },
  {
   "cell_type": "code",
   "execution_count": 23,
   "metadata": {},
   "outputs": [
    {
     "name": "stdout",
     "output_type": "stream",
     "text": [
      "           ID        first_party                    second_party  \\\n",
      "0  TRAIN_0000  Phil A. St. Amant              Herman A. Thompson   \n",
      "1  TRAIN_0001     Stephen Duncan                  Lawrence Owens   \n",
      "2  TRAIN_0002  Billy Joe Magwood  Tony Patterson, Warden, et al.   \n",
      "\n",
      "                                               facts  first_party_winner  \n",
      "0  On June 27, 1962, Phil St. Amant, a candidate ...                   1  \n",
      "1  Ramon Nelson was riding his bike when he suffe...                   0  \n",
      "2  An Alabama state court convicted Billy Joe Mag...                   1  \n"
     ]
    }
   ],
   "source": [
    "print(train[:3])"
   ]
  },
  {
   "cell_type": "code",
   "execution_count": 10,
   "metadata": {},
   "outputs": [],
   "source": [
    "vectorizer = TfidfVectorizer()\n",
    "\n",
    "def get_vector(vectorizer, df, train_mode):\n",
    "    if train_mode:\n",
    "        X_facts = vectorizer.fit_transform(df['facts'])\n",
    "    else:\n",
    "        X_facts = vectorizer.transform(df['facts'])\n",
    "    X_party1 = vectorizer.transform(df['first_party'])\n",
    "    X_party2 = vectorizer.transform(df['second_party'])\n",
    "    \n",
    "    X = np.concatenate([X_party1.todense(), X_party2.todense(), X_facts.todense()], axis=1)\n",
    "    return X"
   ]
  },
  {
   "cell_type": "code",
   "execution_count": 11,
   "metadata": {},
   "outputs": [
    {
     "name": "stdout",
     "output_type": "stream",
     "text": [
      "0    On June 27, 1962, Phil St. Amant, a candidate ...\n",
      "1    Ramon Nelson was riding his bike when he suffe...\n",
      "2    An Alabama state court convicted Billy Joe Mag...\n",
      "3    Victor Linkletter was convicted in state court...\n",
      "4    On April 24, 1953 in Selma, Alabama, an intrud...\n",
      "Name: facts, dtype: object\n"
     ]
    }
   ],
   "source": [
    "print(train['facts'][:5])"
   ]
  },
  {
   "cell_type": "code",
   "execution_count": 13,
   "metadata": {},
   "outputs": [
    {
     "name": "stdout",
     "output_type": "stream",
     "text": [
      "(5, 52377)\n"
     ]
    }
   ],
   "source": [
    "X_train = get_vector(vectorizer, train, True)\n",
    "print(X_train[:5].shape)\n",
    "Y_train = train[\"first_party_winner\"]\n",
    "X_test = get_vector(vectorizer, test, False)"
   ]
  },
  {
   "cell_type": "code",
   "execution_count": 6,
   "metadata": {},
   "outputs": [
    {
     "name": "stderr",
     "output_type": "stream",
     "text": [
      "/home/moonstar/anaconda3/envs/pytorch/lib/python3.7/site-packages/sklearn/utils/validation.py:598: FutureWarning: np.matrix usage is deprecated in 1.0 and will raise a TypeError in 1.2. Please convert to a numpy array with np.asarray. For more information see: https://numpy.org/doc/stable/reference/generated/numpy.matrix.html\n",
      "  FutureWarning,\n"
     ]
    },
    {
     "data": {
      "text/plain": [
       "LogisticRegression()"
      ]
     },
     "execution_count": 6,
     "metadata": {},
     "output_type": "execute_result"
    }
   ],
   "source": [
    "model = LogisticRegression()\n",
    "model.fit(X_train, Y_train)"
   ]
  },
  {
   "cell_type": "code",
   "execution_count": 14,
   "metadata": {},
   "outputs": [
    {
     "name": "stdout",
     "output_type": "stream",
     "text": [
      "          ID  first_party_winner\n",
      "0  TEST_0000                   0\n",
      "1  TEST_0001                   0\n",
      "2  TEST_0002                   0\n",
      "3  TEST_0003                   0\n",
      "4  TEST_0004                   0\n"
     ]
    }
   ],
   "source": [
    "submit = pd.read_csv('open/sample_submission.csv')\n",
    "print(submit[:5])"
   ]
  },
  {
   "cell_type": "code",
   "execution_count": 8,
   "metadata": {},
   "outputs": [
    {
     "name": "stderr",
     "output_type": "stream",
     "text": [
      "/home/moonstar/anaconda3/envs/pytorch/lib/python3.7/site-packages/sklearn/utils/validation.py:598: FutureWarning: np.matrix usage is deprecated in 1.0 and will raise a TypeError in 1.2. Please convert to a numpy array with np.asarray. For more information see: https://numpy.org/doc/stable/reference/generated/numpy.matrix.html\n",
      "  FutureWarning,\n"
     ]
    }
   ],
   "source": [
    "pred = model.predict(X_test)"
   ]
  },
  {
   "cell_type": "code",
   "execution_count": 9,
   "metadata": {},
   "outputs": [
    {
     "name": "stdout",
     "output_type": "stream",
     "text": [
      "Done\n"
     ]
    }
   ],
   "source": [
    "submit['first_party_winner'] = pred\n",
    "submit.to_csv('./baseline_submit.csv', index=False)\n",
    "print('Done')"
   ]
  },
  {
   "cell_type": "code",
   "execution_count": null,
   "metadata": {},
   "outputs": [],
   "source": []
  }
 ],
 "metadata": {
  "kernelspec": {
   "display_name": "Python 3.7.13 ('pytorch')",
   "language": "python",
   "name": "python3"
  },
  "language_info": {
   "codemirror_mode": {
    "name": "ipython",
    "version": 3
   },
   "file_extension": ".py",
   "mimetype": "text/x-python",
   "name": "python",
   "nbconvert_exporter": "python",
   "pygments_lexer": "ipython3",
   "version": "3.7.13"
  },
  "orig_nbformat": 4,
  "vscode": {
   "interpreter": {
    "hash": "8d043f4dea073442cd267471bf30c46004563c9415419567b38c826b8ca735d1"
   }
  }
 },
 "nbformat": 4,
 "nbformat_minor": 2
}
